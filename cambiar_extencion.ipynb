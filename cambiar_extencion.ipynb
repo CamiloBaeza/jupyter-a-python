{
  "nbformat": 4,
  "nbformat_minor": 0,
  "metadata": {
    "colab": {
      "provenance": []
    },
    "kernelspec": {
      "name": "python3",
      "display_name": "Python 3"
    },
    "language_info": {
      "name": "python"
    }
  },
  "cells": [
    {
      "cell_type": "code",
      "source": [
        "!pip3 install -U nbtopy"
      ],
      "metadata": {
        "id": "U5NW_qRRRSTC"
      },
      "execution_count": null,
      "outputs": []
    },
    {
      "cell_type": "code",
      "source": [
        "!nbtopy archivo_ejemplo_01.ipynb"
      ],
      "metadata": {
        "id": "3grORMuyWHxx"
      },
      "execution_count": null,
      "outputs": []
    }
  ]
}