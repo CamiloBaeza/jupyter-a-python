{
  "nbformat": 4,
  "nbformat_minor": 0,
  "metadata": {
    "colab": {
      "provenance": []
    },
    "kernelspec": {
      "name": "python3",
      "display_name": "Python 3"
    },
    "language_info": {
      "name": "python"
    }
  },
  "cells": [
    {
      "cell_type": "code",
      "source": [
        "!ipynb-py-convert archivo_ejemplo_01.ipynb archivo_ejemplo_01.py"
      ],
      "metadata": {
        "id": "iKhdHr3cE3ss"
      },
      "execution_count": 5,
      "outputs": []
    }
  ]
}