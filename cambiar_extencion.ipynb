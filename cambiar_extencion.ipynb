{
  "nbformat": 4,
  "nbformat_minor": 0,
  "metadata": {
    "colab": {
      "provenance": []
    },
    "kernelspec": {
      "name": "python3",
      "display_name": "Python 3"
    },
    "language_info": {
      "name": "python"
    }
  },
  "cells": [
    {
      "cell_type": "code",
      "source": [
        "!pip install ipynb-py-convert\n",
        "!ipynb-py-convert archivo_ejemplo_01.ipynb archivo_ejemplo_01.py"
      ],
      "metadata": {
        "id": "iKhdHr3cE3ss",
        "colab": {
          "base_uri": "https://localhost:8080/"
        },
        "outputId": "06cb39e5-338e-412b-b92e-62a16c822fb7"
      },
      "execution_count": 7,
      "outputs": [
        {
          "output_type": "stream",
          "name": "stdout",
          "text": [
            "Looking in indexes: https://pypi.org/simple, https://us-python.pkg.dev/colab-wheels/public/simple/\n",
            "Requirement already satisfied: ipynb-py-convert in /usr/local/lib/python3.7/dist-packages (0.4.6)\n"
          ]
        }
      ]
    }
  ]
}